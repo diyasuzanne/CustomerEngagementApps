{
 "cells": [
  {
   "cell_type": "code",
   "execution_count": 1,
   "metadata": {
    "collapsed": true
   },
   "outputs": [],
   "source": [
    "import pandas as pd"
   ]
  },
  {
   "cell_type": "code",
   "execution_count": 5,
   "metadata": {},
   "outputs": [],
   "source": [
    "# Read in the file\n",
    "Sales = pd.read_csv(\"salesData.csv\")"
   ]
  },
  {
   "cell_type": "code",
   "execution_count": 10,
   "metadata": {},
   "outputs": [
    {
     "name": "stdout",
     "output_type": "stream",
     "text": [
      "   id  nItems     mostFreqStore mostFreqCat  nCats preferredBrand  nBrands  \\\n0   1    1469          Stockton     Alcohol     72          Veina      517   \n1   2    1463          Stockton     Alcohol     73          Veina      482   \n2   3     262  Colorado Springs       Shoes     55             Bo      126   \n3   4     293  Colorado Springs      Bakery     50          Veina      108   \n4   5     108  Colorado Springs   Beverages     32             Bo       79   \n\n   nPurch  salesLast3Mon  salesThisMon  daysSinceLastPurch  meanItemPrice  \\\n0      82        2741.97       1283.87                   1       1.866555   \n1      88        2790.58       1242.60                   1       1.907437   \n2      56        1529.55        682.57                   1       5.837977   \n3      43        1765.81        730.23                   1       6.026655   \n4      18        1180.00        552.54                  12      10.925926   \n\n   meanShoppingCartValue  customerDuration  \n0              33.438659               821  \n1              31.711136               657  \n2              27.313393               548  \n3              41.065349               596  \n4              65.555556               603  \n"
     ]
    }
   ],
   "source": [
    "# Exploration of the sales data\n",
    "print(Sales.head(5))\n",
    "#str(Sales)\n",
    "\n",
    "# Data Understanding\n",
    "    # id: identification number of customer\n",
    "    # mostFreqStore: Store most frequented by the customer\n",
    "    # mostFreqCat: Category most frequently purchased by the customer\n",
    "    # nCats: Number of different categories\n",
    "    # preferredBrand = brand purchased most frequently by  a customer\n",
    "    # nBrands = Number of different brands"
   ]
  },
  {
   "cell_type": "code",
   "execution_count": null,
   "metadata": {},
   "outputs": [],
   "source": []
  }
 ],
 "metadata": {
  "kernelspec": {
   "display_name": "Python 2",
   "language": "python",
   "name": "python2"
  },
  "language_info": {
   "codemirror_mode": {
    "name": "ipython",
    "version": 2
   },
   "file_extension": ".py",
   "mimetype": "text/x-python",
   "name": "python",
   "nbconvert_exporter": "python",
   "pygments_lexer": "ipython2",
   "version": "2.7.6"
  }
 },
 "nbformat": 4,
 "nbformat_minor": 0
}
